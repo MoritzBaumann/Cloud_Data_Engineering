{
 "cells": [
  {
   "cell_type": "markdown",
   "metadata": {},
   "source": [
    "### WBS Coding School\n",
    "___\n",
    "# Data Engineering Project\n",
    "\n",
    "This is a data engineering project, in which I use Python, MySQL and AWS Services to create and automatically update an online database.\n",
    "\n",
    "It is a learning project, in which I practise several data engineering techniques, such as API calls and AWS Lambda functions.\n",
    "\n",
    "Our tasks are:\n",
    "- [x] Collect data\n",
    "- [ ] Clean data\n",
    "- [ ] Create a database\n",
    "- [ ] Update the database with the latest data\n",
    "- [ ] Move the data pipeline to the Cloud (AWS)\n",
    "\n",
    "We will perform this project using *Python*, *MySQL* and the AWS Services *RDS*, *Lambda* and *EventBridge*.\n",
    "___"
   ]
  },
  {
   "cell_type": "markdown",
   "metadata": {},
   "source": [
    "# Data Collection"
   ]
  },
  {
   "cell_type": "markdown",
   "metadata": {},
   "source": [
    "This script uses API calls and web-scraping to collect data on cities, airports, flight arrivals and weather forecasts.\n",
    "\n",
    "Most importantly, it sets up the functions for collecting data, which will later on be used in AWS Lambda functions."
   ]
  },
  {
   "cell_type": "markdown",
   "metadata": {},
   "source": [
    "### Table of contents:\n",
    "- [Get Cities data](#cities_data)\n",
    "- [Get Weather Data](#weather_data)\n",
    "- [Get Airports & Arrivals Data](#airports_arrivals_data)\n",
    "- [Export Data](#export_data)"
   ]
  },
  {
   "cell_type": "markdown",
   "metadata": {},
   "source": [
    "#### Import Libraries"
   ]
  },
  {
   "cell_type": "code",
   "execution_count": 5,
   "metadata": {},
   "outputs": [],
   "source": [
    "import os\n",
    "import pandas as pd\n",
    "from datetime import datetime, timedelta, date\n",
    "import re\n",
    "\n",
    "from bs4 import BeautifulSoup # web-scraping\n",
    "import requests # API calls\n",
    "import config_file # contains the OpenWeather and aerobox API keys"
   ]
  },
  {
   "cell_type": "markdown",
   "metadata": {},
   "source": [
    "### Cities of interest\n",
    "These cities are the ones I will collect data on during this Data Engineering project."
   ]
  },
  {
   "cell_type": "code",
   "execution_count": 2,
   "metadata": {},
   "outputs": [],
   "source": [
    "cities_of_interest = [\"Berlin\", \"Dresden\", \"Madrid\", \"Tokyo\", \"London\", \"Shanghai\"]"
   ]
  },
  {
   "cell_type": "markdown",
   "metadata": {},
   "source": [
    " <a id=\"cities_data\"></a>\n",
    " ## Cities data (Web Scraping)\n",
    " Collect data on cities from their Wikipedia websites using web-scraping and the package `BeautifulSoup`."
   ]
  },
  {
   "cell_type": "code",
   "execution_count": 3,
   "metadata": {},
   "outputs": [],
   "source": [
    "# Read in wikipedia source code, brew soup\n",
    "def brew_soup(city: str):\n",
    "    url = f\"https://en.wikipedia.org/wiki/{city}\"\n",
    "    response = requests.get(url)\n",
    "    soup = BeautifulSoup(response.content, \"html.parser\")\n",
    "    return soup\n",
    "\n",
    "# Save data from html code in dictionary\n",
    "def get_city_info(soup):\n",
    "    city_info = {}\n",
    "    # City, country, coordinates\n",
    "    city_info[\"city_name\"] = soup.find('span', {'class': 'mw-page-title-main'}).get_text()\n",
    "    city_info[\"country\"] = soup.select(\"table.infobox.ib-settlement.vcard > tbody > tr > td.infobox-data\")[0].get_text()\n",
    "    city_info[\"latitude\"] = soup.find('span', {'class': 'latitude'}).get_text()\n",
    "    city_info[\"longitude\"] = soup.select('.longitude')[0].string\n",
    "    # Population\n",
    "    population_info = soup.select_one('th.infobox-header:-soup-contains(\"Population\")')\n",
    "    city_info[\"population\"] = population_info.parent.find_next_sibling().find('td', {'class': 'infobox-data'}).string\n",
    "    # Altitude\n",
    "    infobox_data = soup.select(\"table.infobox.ib-settlement.vcard > tbody > tr > td.infobox-data\")\n",
    "    index = [\"ft\" in x.text for x in infobox_data].index(True) # get the index of the altitude infobox row (contains 'ft' = feet)\n",
    "    altitude_text = str(infobox_data[index].get_text()) # get the line with the altitude\n",
    "    match = re.findall(\"\\d+.m\", altitude_text)[0].split(maxsplit=1)[0] # get the first number (altitude in meters)\n",
    "    if match:\n",
    "        altitude_in_meters = int(match)\n",
    "    else:\n",
    "        altitude_in_meters = None\n",
    "    city_info[\"altitude\"] = altitude_in_meters\n",
    "    return city_info\n",
    "\n",
    "def get_cities_data(cities: list):\n",
    "    # Web scrape the cities' info:\n",
    "    cities_info = {}\n",
    "    for city in cities:\n",
    "        soup = brew_soup(city)\n",
    "        cities_info[city] = get_city_info(soup)\n",
    "    # Turn them into dataframes:\n",
    "    cities_df = pd.DataFrame.from_dict(cities_info, orient='index')\n",
    "    cities_df = cities_df.reset_index().drop([\"index\"], axis=1)\n",
    "    populations_df = cities_df[[\"city_name\", \"population\"]]\n",
    "    return cities_df, populations_df"
   ]
  },
  {
   "cell_type": "code",
   "execution_count": 4,
   "metadata": {},
   "outputs": [],
   "source": [
    "cities_df, populations_df = get_cities_data(cities_of_interest)"
   ]
  },
  {
   "cell_type": "markdown",
   "metadata": {},
   "source": [
    " <a id=\"weather_data\"></a>\n",
    " ## Weather data (API call)\n",
    " Collect the weather forecast for today for the `cities_of_interest` from OpenWeatherMap using the `requests` package."
   ]
  },
  {
   "cell_type": "code",
   "execution_count": 6,
   "metadata": {},
   "outputs": [],
   "source": [
    "def create_weather_response(city: str, cnt = 50):\n",
    "    base_url = \"https://api.openweathermap.org/data/2.5/forecast?\"\n",
    "    API_key = config_file.OPEN_WEATHER_API_KEY\n",
    "    units = \"metric\"\n",
    "    language = \"en\"\n",
    "    weather_response = requests.get(f\"{base_url}appid={API_key}&q={city}&cnt={cnt}&units={units}&lang={language}\")\n",
    "    return weather_response\n",
    "\n",
    "def create_weather_dataframe(response: requests.models.Response):\n",
    "    # Save the weather data\n",
    "    weather_json = response.json()\n",
    "    weather_df = pd.json_normalize(weather_json[\"list\"]) # Column \"weather\" contains a dictionary ...\n",
    "    weather_df[\"city\"] = weather_json[\"city\"][\"name\"]\n",
    "    weather_exploded_df = pd.json_normalize(weather_df.explode(\"weather\")[\"weather\"]) # ... we therefore explode that column ...\n",
    "    weather_exploded_df[\"city\"] = weather_json[\"city\"][\"name\"]\n",
    "    weather_exploded_df[\"dt\"] = weather_df[\"dt\"]\n",
    "    weather_all_df = weather_exploded_df.merge(weather_df, on=[\"city\", \"dt\"]) # ... and re-merge the two dataframes.\n",
    "    weather_clean_df = weather_all_df[[\"city\", \"dt_txt\", \"main\", \"description\", \"main.temp\", \"main.feels_like\", \"wind.speed\"]]\n",
    "    weather_clean_df = weather_clean_df.rename(columns={\n",
    "        \"dt_txt\": \"forecast_time\",\n",
    "        \"main\": \"outlook\",\n",
    "        \"description\": \"outlook_description\",\n",
    "        \"main.temp\": \"temperature\",\n",
    "        \"main.feels_like\": \"feels_like\",\n",
    "        \"wind.speed\": \"wind_speed\"\n",
    "    })\n",
    "    # Save city data\n",
    "    city = weather_json['city']['name']\n",
    "    latitude = weather_json['city']['coord']['lat']\n",
    "    longitude = weather_json['city']['coord']['lon']\n",
    "    country = weather_json['city']['country']\n",
    "    city_data = {\n",
    "        \"city\": city,\n",
    "        \"latitude\": latitude,\n",
    "        \"longitude\": longitude,\n",
    "        \"country\": country\n",
    "    }\n",
    "    city_data_df = pd.DataFrame(city_data, index=[0])\n",
    "    # Merge the two dataframes\n",
    "    weather_city_df = pd.merge(weather_clean_df, city_data_df, on=\"city\", how=\"inner\")\n",
    "    return weather_city_df\n",
    "\n",
    "def get_weather_data(cities: list):\n",
    "    weather_cities_df = pd.DataFrame()\n",
    "    for city in cities:\n",
    "        weather_response = create_weather_response(city)\n",
    "        weather_city_df = create_weather_dataframe(weather_response)\n",
    "        weather_cities_df = pd.concat([weather_cities_df, weather_city_df])\n",
    "    return weather_cities_df.reset_index(drop=True)"
   ]
  },
  {
   "cell_type": "code",
   "execution_count": 7,
   "metadata": {},
   "outputs": [],
   "source": [
    "weather_df = get_weather_data(cities_of_interest)"
   ]
  },
  {
   "cell_type": "markdown",
   "metadata": {},
   "source": [
    " <a id=\"airports_arrivals_data\"></a>\n",
    " ## Airports and Arrivals data (API calls)\n",
    " Fetch data on airports near my `cities_of_interest` and today's arriving flights from the aerodatabox API from rapidAPI."
   ]
  },
  {
   "cell_type": "markdown",
   "metadata": {},
   "source": [
    "#### Airports"
   ]
  },
  {
   "cell_type": "code",
   "execution_count": 8,
   "metadata": {},
   "outputs": [],
   "source": [
    "def get_airport_data(latitudes: list, longitudes: list, radius=50, limit=10):\n",
    "  list_of_dfs = []\n",
    "  for lat, lon in zip(latitudes, longitudes):\n",
    "    url = \"https://aerodatabox.p.rapidapi.com/airports/search/location\"\n",
    "    querystring = {\"lat\": lat, \"lon\": lon, \"radiusKm\": radius, \"limit\": limit, \"withFlightInfoOnly\": \"true\"}\n",
    "    headers = {\n",
    "\t    \"X-RapidAPI-Key\": config_file.AERODATABOX_API_KEY,\n",
    "\t    \"X-RapidAPI-Host\": \"aerodatabox.p.rapidapi.com\"\n",
    "    }\n",
    "    response = requests.request(\"GET\", url, headers=headers, params=querystring)\n",
    "    airport_data = pd.json_normalize(response.json()['items'])\n",
    "    list_of_dfs.append(airport_data)\n",
    "  return pd.concat(list_of_dfs, ignore_index=True)\n",
    "\n",
    "def convert_coordinates(coordinate_dms):\n",
    "  deg, minutes, seconds, direction =  re.split('[°\\′″]', coordinate_dms)\n",
    "  coordinate_decimal = (\n",
    "    float(deg) + float(minutes)/60 + float(seconds)/(60*60)) * (-1 if direction in ['W', 'S'] else 1\n",
    "  )\n",
    "  return round(coordinate_decimal, 4)"
   ]
  },
  {
   "cell_type": "code",
   "execution_count": 9,
   "metadata": {},
   "outputs": [],
   "source": [
    "# Convert coordinates of our cities from degrees, minutes, seonds to decimal\n",
    "for row in range(len(cities_df)): \n",
    "    cities_df.loc[row, \"latitude\"] = convert_coordinates(cities_df.loc[row, \"latitude\"])\n",
    "    cities_df.loc[row, \"longitude\"] = convert_coordinates(cities_df.loc[row, \"longitude\"])"
   ]
  },
  {
   "cell_type": "code",
   "execution_count": 10,
   "metadata": {},
   "outputs": [],
   "source": [
    "latitudes = cities_df[\"latitude\"].to_list()\n",
    "longitudes = cities_df[\"longitude\"].to_list()\n",
    "\n",
    "airports_df = get_airport_data(latitudes, longitudes)"
   ]
  },
  {
   "cell_type": "markdown",
   "metadata": {},
   "source": [
    "#### Arrivals"
   ]
  },
  {
   "cell_type": "code",
   "execution_count": 11,
   "metadata": {},
   "outputs": [],
   "source": [
    "def create_date_range():\n",
    "    # The aerodatabox API returns flights data for 12 h intervals, \n",
    "    # hence we'll first create a date range with two 12 h intervals, summing up to a whole day.\n",
    "    date_range_dict = {}\n",
    "    morning1 = (datetime.combine(date.today(), datetime.min.time()) + timedelta(1)).strftime('%Y-%m-%dT%H:%M')\n",
    "    evening1 = (datetime.combine(date.today(), datetime.min.time()) + timedelta(1.5)).strftime('%Y-%m-%dT%H:%M')\n",
    "    morning2 = (datetime.combine(date.today(), datetime.min.time()) + timedelta(1.5)).strftime('%Y-%m-%dT%H:%M')\n",
    "    evening2 = (datetime.combine(date.today(), datetime.min.time()) + timedelta(2)).strftime('%Y-%m-%dT%H:%M')\n",
    "    date_range_dict[\"morning\"] = [morning1, morning2]\n",
    "    date_range_dict[\"evening\"] = [morning2, evening2]\n",
    "    return date_range_dict\n",
    "\n",
    "\n",
    "def get_arrivals_response(icao_code: str, date_range: dict, day_time: str):\n",
    "    url = f\"https://aerodatabox.p.rapidapi.com/flights/airports/icao/{icao_code}/{date_range[day_time][0]}/{date_range[day_time][1]}\"\n",
    "    querystring = {\n",
    "\t    \"withLeg\": \"false\", \"direction\": \"Arrival\", \n",
    "\t    \"withCancelled\": \"false\", \"withCodeshared\": \"false\", \n",
    "\t    \"withCargo\": \"false\", \"withPrivate\": \"false\", \"withLocation\": \"false\"\n",
    "    }\n",
    "    headers = {\n",
    "    \t\"X-RapidAPI-Key\": config_file.AERODATABOX_API_KEY,\n",
    "    \t\"X-RapidAPI-Host\": \"aerodatabox.p.rapidapi.com\"\n",
    "    }\n",
    "    response = requests.get(url, headers=headers, params=querystring)\n",
    "    return response\n",
    "\n",
    "\n",
    "def create_arrivals_df(response: requests.models.Response, icao_code: str):\n",
    "    arrivals_json = response.json()[\"arrivals\"]\n",
    "    arrivals_df = pd.json_normalize(arrivals_json)\n",
    "    arrivals_df[\"icao\"] = icao_code\n",
    "    new_columns_dict = {\n",
    "        \"icao\": \"icao\",\n",
    "        \"number\": \"flight_number\", \n",
    "        \"movement.scheduledTime.utc\": \"arrival_time_utc\", \n",
    "        \"movement.scheduledTime.local\": \"arrival_time_local\",\n",
    "        \"airline.name\": \"airline\", \n",
    "        \"movement.airport.name\": \"departing_airport\", \n",
    "        \"movement.airport.icao\": \"departing_airport_icao\"\n",
    "    }\n",
    "    old_columns = list(new_columns_dict.keys())\n",
    "    arrivals_df_clean = arrivals_df[old_columns].rename(columns=new_columns_dict)\n",
    "    return arrivals_df_clean\n",
    "\n",
    "\n",
    "def get_arrivals_data(icao_codes: list):\n",
    "    arrivals_list = []\n",
    "    # Get start & end date\n",
    "    date_range = create_date_range()\n",
    "\n",
    "    for icao in icao_codes:\n",
    "        for day_time in ['morning', 'evening']:\n",
    "            response = get_arrivals_response(icao_code=icao, date_range=date_range, day_time=day_time)\n",
    "            if response.status_code != 200: # for some airports, there is no data in the aerodatabox\n",
    "                continue\n",
    "            arrivals_df = create_arrivals_df(response, icao_code=icao)\n",
    "            arrivals_list.append(arrivals_df)\n",
    "        arrivals = pd.concat(arrivals_list)\n",
    "    return arrivals.reset_index(drop=True)"
   ]
  },
  {
   "cell_type": "code",
   "execution_count": 12,
   "metadata": {},
   "outputs": [],
   "source": [
    "# Get CIAO codes\n",
    "# (ICAO codes are unique airport identifiers)\n",
    "icao_codes = airports_df[\"icao\"].to_list()"
   ]
  },
  {
   "cell_type": "code",
   "execution_count": 13,
   "metadata": {},
   "outputs": [],
   "source": [
    "arrivals_df = get_arrivals_data(icao_codes)"
   ]
  },
  {
   "cell_type": "markdown",
   "metadata": {},
   "source": [
    "<a id=\"export_data\"></a>\n",
    "## Export Data"
   ]
  },
  {
   "cell_type": "code",
   "execution_count": 15,
   "metadata": {},
   "outputs": [],
   "source": [
    "# Create directory\n",
    "os.makedirs('dataframes/initial', exist_ok=True)\n",
    "\n",
    "# Export data\n",
    "cities_df.to_csv(\"dataframes/initial/cities_df.csv\", index=False)\n",
    "populations_df.to_csv(\"dataframes/initial/populations_df.csv\", index=False)\n",
    "weather_df.to_csv(\"dataframes/initial/weather_df.csv\", index=False)\n",
    "airports_df.to_csv(\"dataframes/initial/airports_df.csv\", index=False)\n",
    "arrivals_df.to_csv(\"dataframes/initial/arrivals_df.csv\", index=False)"
   ]
  }
 ],
 "metadata": {
  "kernelspec": {
   "display_name": "base",
   "language": "python",
   "name": "python3"
  },
  "language_info": {
   "codemirror_mode": {
    "name": "ipython",
    "version": 3
   },
   "file_extension": ".py",
   "mimetype": "text/x-python",
   "name": "python",
   "nbconvert_exporter": "python",
   "pygments_lexer": "ipython3",
   "version": "3.11.4"
  }
 },
 "nbformat": 4,
 "nbformat_minor": 2
}
