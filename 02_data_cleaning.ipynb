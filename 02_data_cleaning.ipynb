{
 "cells": [
  {
   "cell_type": "markdown",
   "metadata": {},
   "source": [
    "# Data Cleaning"
   ]
  },
  {
   "cell_type": "markdown",
   "metadata": {},
   "source": [
    "### Import dataframes"
   ]
  },
  {
   "cell_type": "code",
   "execution_count": 198,
   "metadata": {},
   "outputs": [],
   "source": [
    "import pandas as pd\n",
    "import os"
   ]
  },
  {
   "cell_type": "code",
   "execution_count": 199,
   "metadata": {},
   "outputs": [],
   "source": [
    "cities_df = pd.read_csv(\"dataframes/initial/cities_df.csv\")\n",
    "populations_df = pd.read_csv(\"dataframes/initial/populations_df.csv\")\n",
    "weather_df = pd.read_csv(\"dataframes/initial/weather_df.csv\")\n",
    "airports_df = pd.read_csv(\"dataframes/initial/airports_df.csv\")\n",
    "arrivals_df = pd.read_csv(\"dataframes/initial/arrivals_df.csv\")"
   ]
  },
  {
   "cell_type": "markdown",
   "metadata": {},
   "source": [
    "### Cities, populations"
   ]
  },
  {
   "cell_type": "code",
   "execution_count": 200,
   "metadata": {},
   "outputs": [],
   "source": [
    "def create_city_ids(cities_df: pd.DataFrame):\n",
    "    city_ids = cities_df.copy().reset_index().drop([\"index\"], axis=1)\n",
    "    city_ids[\"city_id\"] = city_ids.index + 1\n",
    "    city_ids = city_ids[[\"city_id\", \"city_name\"]]\n",
    "    return city_ids"
   ]
  },
  {
   "cell_type": "code",
   "execution_count": 201,
   "metadata": {},
   "outputs": [],
   "source": [
    "city_ids = create_city_ids(cities_df)"
   ]
  },
  {
   "cell_type": "code",
   "execution_count": 202,
   "metadata": {},
   "outputs": [],
   "source": [
    "def clean_cities_populations(cities_df: pd.DataFrame, populations_df: pd.DataFrame, city_ids: pd.DataFrame):\n",
    "    \n",
    "    # Cities df for SQL:\n",
    "    cities_df_clean = cities_df[[\"city_name\", \"country\", \"latitude\", \"longitude\", \"altitude\"]]\n",
    "\n",
    "    # Populations df for SQL:\n",
    "    populations_df_clean = populations_df.merge(city_ids)[[\"city_id\", \"city_name\", \"population\"]] # get city_id\n",
    "    populations_df_clean[\"population\"] = populations_df_clean[\"population\"].str.replace(',', '') # remove commata\n",
    "    populations_df_clean.loc[populations_df_clean[\"population\"].isna(), \"population\"] = 0 # set NAs to 0\n",
    "    populations_df_clean[\"population\"] = populations_df_clean[\"population\"].astype(\"int\")\n",
    "    \n",
    "    return cities_df_clean, populations_df_clean"
   ]
  },
  {
   "cell_type": "code",
   "execution_count": 203,
   "metadata": {},
   "outputs": [],
   "source": [
    "cities_df_clean, populations_df_clean = clean_cities_populations(cities_df, populations_df, city_ids)"
   ]
  },
  {
   "cell_type": "markdown",
   "metadata": {},
   "source": [
    "### Weather"
   ]
  },
  {
   "cell_type": "code",
   "execution_count": 204,
   "metadata": {},
   "outputs": [],
   "source": [
    "def clean_weather(weather_df: pd.DataFrame, city_ids: pd.DataFrame):\n",
    "    \n",
    "    weather_df_clean = weather_df.copy().merge(city_ids, left_on=\"city\", right_on=\"city_name\") # get city_id\n",
    "    columns_to_keep = [\"city_id\", \"forecast_time\", \"outlook\", \"outlook_description\", \"temperature\", \"feels_like\", \"wind_speed\"]\n",
    "    weather_df_clean = weather_df_clean[columns_to_keep]\n",
    "\n",
    "    # Change forecast_time column type:\n",
    "    weather_df_clean['forecast_time']= pd.to_datetime(weather_df_clean['forecast_time'])\n",
    "\n",
    "    return weather_df_clean"
   ]
  },
  {
   "cell_type": "code",
   "execution_count": 205,
   "metadata": {},
   "outputs": [],
   "source": [
    "weather_df_clean = clean_weather(weather_df, city_ids)"
   ]
  },
  {
   "cell_type": "markdown",
   "metadata": {},
   "source": [
    "### Airports"
   ]
  },
  {
   "cell_type": "code",
   "execution_count": 206,
   "metadata": {},
   "outputs": [],
   "source": [
    "def clean_airports(airports_df: pd.DataFrame):\n",
    "    airports_df_clean = airports_df.copy().rename(columns={\n",
    "        \"icao\": \"airport_icao\", \n",
    "        \"name\": \"airport_name\", \n",
    "        \"location.lat\": \"latitude\", \n",
    "        \"location.lon\": \"longitude\"\n",
    "    })[[\"airport_icao\", \"airport_name\", \"latitude\", \"longitude\"]]\n",
    "    return airports_df_clean"
   ]
  },
  {
   "cell_type": "code",
   "execution_count": 207,
   "metadata": {},
   "outputs": [],
   "source": [
    "airports_df_clean = clean_airports(airports_df)"
   ]
  },
  {
   "cell_type": "code",
   "execution_count": 208,
   "metadata": {},
   "outputs": [],
   "source": [
    "def clean_cities_airports(airports_df: pd.DataFrame, city_ids: pd.DataFrame):\n",
    "    cities_airports_df_clean = airports_df.copy().merge(\n",
    "        city_ids, how=\"outer\", left_on=\"municipalityName\", right_on=\"city_name\"\n",
    "        )\n",
    "    cities_airports_df_clean = cities_airports_df_clean[[\"icao\", \"city_id\", \"city_name\", \"name\"]].rename(columns={\n",
    "        \"icao\": \"airport_icao\", \n",
    "        \"name\": \"airport_name\"\n",
    "        })\n",
    "    # Redhill Aerodrome airport needs to be filled individually:\n",
    "    cities_airports_df_clean.loc[9,\"city_name\"] = \"London\"\n",
    "    cities_airports_df_clean.loc[9,\"city_id\"] = 5\n",
    "    # Change city_id to int:\n",
    "    cities_airports_df_clean[\"city_id\"] = cities_airports_df_clean[\"city_id\"].astype(\"int\")\n",
    "\n",
    "    return cities_airports_df_clean"
   ]
  },
  {
   "cell_type": "code",
   "execution_count": 209,
   "metadata": {},
   "outputs": [],
   "source": [
    "cities_airports_df_clean = clean_cities_airports(airports_df, city_ids)"
   ]
  },
  {
   "cell_type": "markdown",
   "metadata": {},
   "source": [
    "### Arrivals"
   ]
  },
  {
   "cell_type": "code",
   "execution_count": 210,
   "metadata": {},
   "outputs": [],
   "source": [
    "def clean_arrivals(arrivals_df: pd.DataFrame):\n",
    "    arrivals_df_clean = arrivals_df.copy().rename(columns={\n",
    "        \"icao\": \"arrival_icao\", \n",
    "        \"arrival_time_local\": \"arrival_time\", \n",
    "        \"departing_airport_icao\": \"departure_icao\"\n",
    "    })[[\"flight_number\", \"arrival_icao\", \"arrival_time\", \"departure_icao\"]]\n",
    "    arrivals_df_clean[\"arrival_time\"] = pd.to_datetime(arrivals_df_clean[\"arrival_time\"].str[:-6]) # remove the addition (e.g. +01:00)\n",
    "    return arrivals_df_clean"
   ]
  },
  {
   "cell_type": "code",
   "execution_count": 211,
   "metadata": {},
   "outputs": [],
   "source": [
    "arrivals_df_clean = clean_arrivals(arrivals_df)"
   ]
  },
  {
   "cell_type": "markdown",
   "metadata": {},
   "source": [
    "# Export dataframes"
   ]
  },
  {
   "cell_type": "code",
   "execution_count": 212,
   "metadata": {},
   "outputs": [],
   "source": [
    "# Create directory:\n",
    "os.makedirs('dataframes/cleaned', exist_ok=True)\n",
    "\n",
    "cities_df_clean.to_csv(\"dataframes/cleaned/cities_df_clean.csv\", index=False)\n",
    "populations_df_clean.to_csv(\"dataframes/cleaned/populations_df_clean.csv\", index=False)\n",
    "weather_df_clean.to_csv(\"dataframes/cleaned/weather_df_clean.csv\", index=False)\n",
    "airports_df_clean.to_csv(\"dataframes/cleaned/airports_df_clean.csv\", index=False)\n",
    "cities_airports_df_clean.to_csv(\"dataframes/cleaned/cities_airports_df_clean.csv\", index=False)\n",
    "arrivals_df_clean.to_csv(\"dataframes/cleaned/arrivals_df_clean.csv\", index=False)"
   ]
  }
 ],
 "metadata": {
  "kernelspec": {
   "display_name": "base",
   "language": "python",
   "name": "python3"
  },
  "language_info": {
   "codemirror_mode": {
    "name": "ipython",
    "version": 3
   },
   "file_extension": ".py",
   "mimetype": "text/x-python",
   "name": "python",
   "nbconvert_exporter": "python",
   "pygments_lexer": "ipython3",
   "version": "3.11.4"
  }
 },
 "nbformat": 4,
 "nbformat_minor": 2
}
