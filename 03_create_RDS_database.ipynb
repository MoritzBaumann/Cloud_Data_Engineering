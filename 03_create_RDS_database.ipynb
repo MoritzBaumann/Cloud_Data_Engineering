{
 "cells": [
  {
   "cell_type": "markdown",
   "metadata": {},
   "source": [
    "### WBS Coding School\n",
    "___\n",
    "# Data Engineering Project\n",
    "\n",
    "This is a data engineering project, in which I use Python, MySQL and AWS Services to create and automatically update an online database.\n",
    "\n",
    "It is a learning project, in which I practise several data engineering techniques, such as API calls and AWS Lambda functions.\n",
    "\n",
    "Our tasks are:\n",
    "- [x] Collect data\n",
    "- [x] Clean data\n",
    "- [x] Create a database\n",
    "- [ ] Update the database with the latest data\n",
    "- [ ] Move the data pipeline to the Cloud (AWS)\n",
    "\n",
    "___"
   ]
  },
  {
   "cell_type": "markdown",
   "metadata": {},
   "source": [
    "# Create a Database\n",
    "This script creates a MySQL database on an AWS RDS instance, creates all its tables and populates the static ones (`cities`, `airports`, `cities_airports`, `populations`).\n",
    "\n",
    "The package `pymysql` is used for running SQL queries to create the database and its tables.\n",
    "\n",
    "Note that previous to running this script, a Cloud MySQL database on an AWS RDS instance needs to be set up."
   ]
  },
  {
   "cell_type": "markdown",
   "metadata": {},
   "source": [
    "### Table of contents:\n",
    "- [Connect to the Cloud MySQL instance](#connect)\n",
    "- [Create database & static tables](#create_database)\n",
    "- [Fill static tables](#fill_tables)"
   ]
  },
  {
   "cell_type": "markdown",
   "metadata": {},
   "source": [
    "#### Import Libraries & Dataframes"
   ]
  },
  {
   "cell_type": "code",
   "execution_count": 6,
   "metadata": {},
   "outputs": [],
   "source": [
    "import pandas as pd\n",
    "import pymysql\n",
    "import config_file"
   ]
  },
  {
   "cell_type": "code",
   "execution_count": 4,
   "metadata": {},
   "outputs": [],
   "source": [
    "cities_df_sql = pd.read_csv(\"dataframes/cleaned/cities_df_clean.csv\")\n",
    "populations_df_sql = pd.read_csv(\"dataframes/cleaned/populations_df_clean.csv\")\n",
    "airports_df_sql = pd.read_csv(\"dataframes/cleaned/airports_df_clean.csv\")\n",
    "cities_airports_df_sql = pd.read_csv(\"dataframes/cleaned/cities_airports_df_clean.csv\")\n",
    "# These are all dataframes that will become static tables, \n",
    "# as the information they contain won't change very often."
   ]
  },
  {
   "cell_type": "markdown",
   "metadata": {},
   "source": [
    "<a id=\"connect\"></a>\n",
    "#### Connect to the Cloud MySQL instance\n",
    "(set up a MySQL database on an AWS RDS instance beforehand)"
   ]
  },
  {
   "cell_type": "code",
   "execution_count": 5,
   "metadata": {},
   "outputs": [],
   "source": [
    "# The connection information is contained in the config_file.py\n",
    "user = config_file.AWS_DATABASE_USER\n",
    "password = config_file.AWS_DATABASE_PASSWORD\n",
    "host = config_file.AWS_DATABASE_HOST\n",
    "port = config_file.AWS_DATABASE_PORT\n",
    "schema = config_file.AWS_DATABASE_SCHEMA"
   ]
  },
  {
   "cell_type": "markdown",
   "metadata": {},
   "source": [
    "<a id=\"create_database\"></a>\n",
    "## Create database & static tables"
   ]
  },
  {
   "cell_type": "code",
   "execution_count": 4,
   "metadata": {},
   "outputs": [],
   "source": [
    "# Create a list of SQL queries for creating the database and its empty tables:\n",
    "\n",
    "sql_queries_create_database = [\n",
    "    'CREATE DATABASE IF NOT EXISTS gans;',\n",
    "    \n",
    "    'USE gans;',\n",
    "    \n",
    "    '''\n",
    "    CREATE TABLE cities (\n",
    "        city_id INT AUTO_INCREMENT,\n",
    "        city_name VARCHAR(255),\n",
    "        country VARCHAR(255),\n",
    "        latitude DECIMAL(8,5),\n",
    "        longitude DECIMAL(8,5),\n",
    "        altitude INT,\n",
    "        PRIMARY KEY (city_id)\n",
    "    );\n",
    "    ''',\n",
    "    \n",
    "    '''\n",
    "    CREATE TABLE populations (\n",
    "        city_id INT,\n",
    "        city_name VARCHAR(255),\n",
    "        population INT,\n",
    "        PRIMARY KEY (city_id, population),\n",
    "        FOREIGN KEY (city_id) REFERENCES cities(city_id)\n",
    "    );\n",
    "    ''',\n",
    "    \n",
    "    '''\n",
    "    CREATE TABLE weather (\n",
    "        weather_id INT AUTO_INCREMENT,\n",
    "        city_id INT,\n",
    "        forecast_time DATETIME,\n",
    "        outlook VARCHAR(255),\n",
    "        outlook_description VARCHAR(255),\n",
    "        temperature DECIMAL(4,2),\n",
    "        feels_like DECIMAL(4,2),\n",
    "        wind_speed DECIMAL(4,2),\n",
    "        PRIMARY KEY (weather_id),\n",
    "        FOREIGN KEY (city_id) REFERENCES cities(city_id)\n",
    "    );\n",
    "    ''',\n",
    "\n",
    "    '''\n",
    "    CREATE TABLE airports (\n",
    "        airport_icao VARCHAR(4),\n",
    "        airport_name VARCHAR(255),\n",
    "        latitude DECIMAL,\n",
    "        longitude DECIMAL,\n",
    "        PRIMARY KEY (airport_icao)\n",
    "    );\n",
    "    ''',\n",
    "\n",
    "    '''\n",
    "    CREATE TABLE IF NOT EXISTS cities_airports (\n",
    "        city_id INT NOT NULL,\n",
    "        airport_icao VARCHAR(4) NOT NULL,\n",
    "        city_name VARCHAR(255),\n",
    "        airport_name VARCHAR(255),\n",
    "        FOREIGN KEY (city_id) REFERENCES cities(city_id),\n",
    "        FOREIGN KEY (airport_icao) REFERENCES airports(airport_icao)\n",
    "    );''',\n",
    "\n",
    "    '''\n",
    "    CREATE TABLE arrivals (\n",
    "        flight_id INT NOT NULL AUTO_INCREMENT,\n",
    "        flight_number VARCHAR (255),\n",
    "        arrival_icao VARCHAR(4),\n",
    "        arrival_time DATETIME,\n",
    "        departure_icao VARCHAR(4),\n",
    "        PRIMARY KEY (flight_id),\n",
    "        FOREIGN KEY (arrival_icao) REFERENCES airports (airport_icao)\n",
    "    );\n",
    "    '''\n",
    "]"
   ]
  },
  {
   "cell_type": "markdown",
   "metadata": {},
   "source": [
    "#### Run the SQL queries"
   ]
  },
  {
   "cell_type": "code",
   "execution_count": 5,
   "metadata": {},
   "outputs": [],
   "source": [
    "# Connect to the MySQL server and create a cursor\n",
    "conn = pymysql.connect(host=host, user=user, password=password)\n",
    "cursor = conn.cursor()\n",
    "\n",
    "# Execture the queries\n",
    "for query in sql_queries_create_database:\n",
    "    cursor.execute(query)\n",
    "\n",
    "# Commit the changes to the database\n",
    "conn.commit()\n",
    "\n",
    "# Close the cursor and connection\n",
    "cursor.close()\n",
    "conn.close()\n"
   ]
  },
  {
   "cell_type": "markdown",
   "metadata": {},
   "source": [
    "<a id=\"fill_tables\"></a>\n",
    "## Fill static tables\n",
    "(`cities`, `populations`, `airports`, `cities_airports`)"
   ]
  },
  {
   "cell_type": "code",
   "execution_count": 7,
   "metadata": {},
   "outputs": [],
   "source": [
    "# Create a connection to the MySQL database\n",
    "conn = pymysql.connect(host=host, user=user, password=password, database=schema)\n",
    "\n",
    "# Create a cursor\n",
    "cursor = conn.cursor()\n",
    "\n",
    "# Insert data from the cities DataFrame into the cities table\n",
    "sql_query_cities = \"\"\"\n",
    "INSERT INTO cities (city_name, country, latitude, longitude, altitude)\n",
    "VALUES (%s, %s, %s, %s, %s)\n",
    "\"\"\"\n",
    "cities_tuples = list(cities_df_sql.itertuples(index=False, name=None))\n",
    "cursor.executemany(query=sql_query_cities, args=cities_tuples)\n",
    "\n",
    "# Fill populations table\n",
    "sql_query_populations = \"\"\"\n",
    "INSERT INTO populations (city_id, city_name, population)\n",
    "VALUES (%s, %s, %s)\n",
    "\"\"\"\n",
    "populations_tuples = list(populations_df_sql.itertuples(index=False, name=None))\n",
    "cursor.executemany(query=sql_query_populations, args=populations_tuples)\n",
    "\n",
    "# Fill airports table\n",
    "sql_query_airports = \"\"\"\n",
    "INSERT INTO airports (airport_icao, airport_name, latitude, longitude)\n",
    "VALUES (%s, %s, %s, %s)\n",
    "\"\"\"\n",
    "airports_tuples = list(airports_df_sql.itertuples(index=False, name=None))\n",
    "cursor.executemany(query=sql_query_airports, args=airports_tuples)\n",
    "\n",
    "# Fill cities_airports table\n",
    "sql_query_cities_airports = \"\"\"\n",
    "INSERT INTO cities_airports (airport_icao, city_id, city_name, airport_name)\n",
    "VALUES (%s, %s, %s, %s)\n",
    "\"\"\"\n",
    "cities_airports_tuples = list(cities_airports_df_sql.itertuples(index=False, name=None))\n",
    "cursor.executemany(query=sql_query_cities_airports, args=cities_airports_tuples)\n",
    "\n",
    "# Commit the changes to the database\n",
    "conn.commit()\n",
    "\n",
    "# Close the cursor and connection\n",
    "cursor.close()\n",
    "conn.close()\n"
   ]
  },
  {
   "cell_type": "markdown",
   "metadata": {},
   "source": [
    "#### Test whether the tables are populated"
   ]
  },
  {
   "cell_type": "code",
   "execution_count": 8,
   "metadata": {},
   "outputs": [
    {
     "data": {
      "text/plain": [
       "(('EDDB', 'Berlin Brandenburg', Decimal('52'), Decimal('13')),\n",
       " ('EDDC', 'Dresden ', Decimal('51'), Decimal('14')),\n",
       " ('EGGW', 'London Luton', Decimal('52'), Decimal('0')),\n",
       " ('EGKK', 'London Gatwick', Decimal('51'), Decimal('0')),\n",
       " ('EGKR', 'Redhill Aerodrome', Decimal('51'), Decimal('0')),\n",
       " ('EGLC', 'London City', Decimal('52'), Decimal('0')),\n",
       " ('EGLL', 'London Heathrow', Decimal('51'), Decimal('0')),\n",
       " ('EGSS', 'London Stansted', Decimal('52'), Decimal('0')),\n",
       " ('LEMD', 'Madrid Adolfo Suárez –Barajas', Decimal('40'), Decimal('-4')),\n",
       " ('RJTT', 'Tokyo ', Decimal('36'), Decimal('140')),\n",
       " ('ZSPD', 'Shanghai Pudong', Decimal('31'), Decimal('122')),\n",
       " ('ZSSS', 'Shanghai Hongqiao', Decimal('31'), Decimal('121')))"
      ]
     },
     "execution_count": 8,
     "metadata": {},
     "output_type": "execute_result"
    }
   ],
   "source": [
    "# Connect to the MySQL server and create a cursor\n",
    "conn = pymysql.connect(host=host, user=user, password=password, database=schema)\n",
    "cursor = conn.cursor()\n",
    "\n",
    "# Execture the query\n",
    "cursor.execute(\"SELECT * FROM airports\")\n",
    "\n",
    "# Commit the changes to the database\n",
    "conn.commit()\n",
    "\n",
    "# Get the results:\n",
    "results = cursor.fetchall()\n",
    "\n",
    "# Close the cursor and connection\n",
    "cursor.close()\n",
    "conn.close()\n",
    "\n",
    "\n",
    "# Print the query results\n",
    "results"
   ]
  }
 ],
 "metadata": {
  "kernelspec": {
   "display_name": "base",
   "language": "python",
   "name": "python3"
  },
  "language_info": {
   "codemirror_mode": {
    "name": "ipython",
    "version": 3
   },
   "file_extension": ".py",
   "mimetype": "text/x-python",
   "name": "python",
   "nbconvert_exporter": "python",
   "pygments_lexer": "ipython3",
   "version": "3.11.4"
  }
 },
 "nbformat": 4,
 "nbformat_minor": 2
}
